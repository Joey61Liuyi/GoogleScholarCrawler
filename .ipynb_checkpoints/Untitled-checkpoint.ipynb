{
 "cells": [
  {
   "cell_type": "code",
   "execution_count": 12,
   "metadata": {},
   "outputs": [],
   "source": [
    "from selenium import webdriver\n"
   ]
  },
  {
   "cell_type": "code",
   "execution_count": 37,
   "metadata": {},
   "outputs": [],
   "source": [
    "keywords = [\"inequality\", \"wikipedia\"]\n",
    "journals = [\"American Economic Review\", \"MISQ\"]  # source: \"MISQ\"\n",
    "# authors = [\"Kuznets\"]  # author:Kuznets\n",
    "\n",
    "def generate_search_keywords(keywords, journals):\n",
    "    search_keywords = []\n",
    "    for i in keywords:\n",
    "        for j in journals:\n",
    "            tmp = \" \".join([i, '''source:\"{}\"'''.format(j)])\n",
    "            search_keywords.append(tmp)\n",
    "    return search_keywords"
   ]
  },
  {
   "cell_type": "code",
   "execution_count": 38,
   "metadata": {},
   "outputs": [],
   "source": [
    "search_keywords = generate_search_keywords(keywords, journals)"
   ]
  },
  {
   "cell_type": "code",
   "execution_count": 39,
   "metadata": {},
   "outputs": [
    {
     "data": {
      "text/plain": [
       "['inequality source:\"American Economic Review\"',\n",
       " 'inequality source:\"MISQ\"',\n",
       " 'wikipedia source:\"American Economic Review\"',\n",
       " 'wikipedia source:\"MISQ\"']"
      ]
     },
     "execution_count": 39,
     "metadata": {},
     "output_type": "execute_result"
    }
   ],
   "source": [
    "search_keywords"
   ]
  },
  {
   "cell_type": "code",
   "execution_count": 40,
   "metadata": {},
   "outputs": [],
   "source": [
    "chromedriver = \"/Users/center/working_dir/配置文件/chromedriver\"\n",
    "driver = webdriver.Chrome(chromedriver)\n",
    "driver.execute_script(\"window.scrollTo(0, document.body.scrollHeight);\")"
   ]
  },
  {
   "cell_type": "code",
   "execution_count": 41,
   "metadata": {},
   "outputs": [],
   "source": [
    "driver.get('https://scholar.google.com/')"
   ]
  },
  {
   "cell_type": "code",
   "execution_count": 42,
   "metadata": {},
   "outputs": [],
   "source": [
    "input_element = driver.find_element_by_name(\"q\")"
   ]
  },
  {
   "cell_type": "code",
   "execution_count": 43,
   "metadata": {},
   "outputs": [],
   "source": [
    "input_element.send_keys(search_keywords[0])\n",
    "input_element.submit()"
   ]
  }
 ],
 "metadata": {
  "kernelspec": {
   "display_name": "Python 3",
   "language": "python",
   "name": "python3"
  },
  "language_info": {
   "codemirror_mode": {
    "name": "ipython",
    "version": 3
   },
   "file_extension": ".py",
   "mimetype": "text/x-python",
   "name": "python",
   "nbconvert_exporter": "python",
   "pygments_lexer": "ipython3",
   "version": "3.6.2"
  }
 },
 "nbformat": 4,
 "nbformat_minor": 2
}
